{
 "cells": [
  {
   "cell_type": "code",
   "execution_count": null,
   "metadata": {},
   "outputs": [],
   "source": [
    "import pandas as pan\n",
    "import numpy as np\n",
    "import matplotlib.pyplot as plotter\n",
    "from matplotlib.image import imread\n",
    "import seaborn as sns\n",
    "import os\n",
    "from pathlib import Path\n",
    "from keras.preprocessing.image import ImageDataGenerator\n",
    "from keras.models import Sequential\n",
    "from keras.layers import Dense, Conv2D, Dropout, MaxPool2D, Flatten\n",
    "from keras.callbacks import EarlyStopping"
   ]
  },
  {
   "cell_type": "code",
   "execution_count": null,
   "metadata": {},
   "outputs": [],
   "source": [
    "test_path = Path(\"C://Users//omoke//Downloads//cell_images//cell_images//test//\")\n",
    "train_path = Path(\"C://Users//omoke//Downloads//cell_images//cell_images//train//\")"
   ]
  },
  {
   "cell_type": "code",
   "execution_count": null,
   "metadata": {},
   "outputs": [],
   "source": [
    "temp_img = imread(\"C://Users//omoke//Downloads//cell_images//cell_images//test//parasitized//C100P61ThinF_IMG_20150918_144348_cell_144.png\")"
   ]
  },
  {
   "cell_type": "code",
   "execution_count": null,
   "metadata": {},
   "outputs": [],
   "source": [
    "plotter.imshow(temp_img)"
   ]
  },
  {
   "cell_type": "code",
   "execution_count": null,
   "metadata": {},
   "outputs": [],
   "source": [
    "img_shape = (130, 130, 3)"
   ]
  },
  {
   "cell_type": "code",
   "execution_count": null,
   "metadata": {},
   "outputs": [],
   "source": [
    "img_generator = ImageDataGenerator(rotation_range = 20, width_shift_range = 0.1, height_shift_range = 0.1, rescale = 1*1, shear_range = 10, zoom_range = 0.1, horizontal_flip = True, fill_mode = \"nearest\")"
   ]
  },
  {
   "cell_type": "code",
   "execution_count": null,
   "metadata": {},
   "outputs": [],
   "source": [
    "plotter.imshow(temp_img)"
   ]
  },
  {
   "cell_type": "code",
   "execution_count": null,
   "metadata": {},
   "outputs": [],
   "source": [
    "plotter.imshow(img_generator.random_transform(temp_img))"
   ]
  },
  {
   "cell_type": "code",
   "execution_count": null,
   "metadata": {},
   "outputs": [],
   "source": [
    "img_generator.flow_from_directory(train_path) "
   ]
  },
  {
   "cell_type": "code",
   "execution_count": null,
   "metadata": {},
   "outputs": [],
   "source": [
    "image_learner = Sequential()\n",
    "image_learner.add(Conv2D(filters = (32), kernel_size = (3, 3), input_shape = img_shape, activation = \"relu\"))\n",
    "image_learner.add(MaxPool2D(pool_size= (2, 2)))\n",
    "image_learner.add(Dropout(0.20))\n",
    "image_learner.add(Conv2D(filters = (64), kernel_size = (3, 3), input_shape = img_shape, activation = \"relu\"))\n",
    "image_learner.add(MaxPool2D(pool_size= (2, 2)))\n",
    "image_learner.add(Dropout(0.30))\n",
    "image_learner.add(Conv2D(filters = (128), kernel_size = (3, 3), input_shape = img_shape, activation = \"relu\"))\n",
    "image_learner.add(MaxPool2D(pool_size= (2, 2)))\n",
    "image_learner.add(Dropout(0.40))\n",
    "image_learner.add(Flatten())\n",
    "image_learner.add(Dense(units = 64, activation = \"relu\"))\n",
    "image_learner.add(Dense(units = 1, activation = \"sigmoid\"))\n",
    "image_learner.compile(loss = \"binary_crossentropy\", optimizer = \"adam\", metrics = [\"accuracy\"])"
   ]
  },
  {
   "cell_type": "code",
   "execution_count": null,
   "metadata": {},
   "outputs": [],
   "source": [
    "stopper = EarlyStopping(patience = 2)\n",
    "train_img_generator = img_generator.flow_from_directory(train_path, target_size = img_shape[: 2], color_mode = \"rgb\", batch_size = 64, class_mode = \"binary\")\n",
    "test_img_generator = img_generator.flow_from_directory(test_path, target_size = img_shape[: 2], color_mode = \"rgb\", batch_size = 64, class_mode = \"binary\", shuffle = False)"
   ]
  },
  {
   "cell_type": "code",
   "execution_count": null,
   "metadata": {},
   "outputs": [],
   "source": [
    "train_img_generator.class_indices"
   ]
  },
  {
   "cell_type": "code",
   "execution_count": null,
   "metadata": {},
   "outputs": [],
   "source": [
    "image_learner.fit(train_img_generator, epochs = 20, validation_data = test_img_generator, callbacks = [stopper])"
   ]
  }
 ],
 "metadata": {
  "kernelspec": {
   "display_name": "Python 3",
   "language": "python",
   "name": "python3"
  },
  "language_info": {
   "codemirror_mode": {
    "name": "ipython",
    "version": 3
   },
   "file_extension": ".py",
   "mimetype": "text/x-python",
   "name": "python",
   "nbconvert_exporter": "python",
   "pygments_lexer": "ipython3",
   "version": "3.11.2"
  },
  "orig_nbformat": 4
 },
 "nbformat": 4,
 "nbformat_minor": 2
}
